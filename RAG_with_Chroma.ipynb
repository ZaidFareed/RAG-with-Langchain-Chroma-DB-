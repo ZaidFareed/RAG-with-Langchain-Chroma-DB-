{
  "nbformat": 4,
  "nbformat_minor": 0,
  "metadata": {
    "colab": {
      "provenance": []
    },
    "kernelspec": {
      "name": "python3",
      "display_name": "Python 3"
    },
    "language_info": {
      "name": "python"
    }
  },
  "cells": [
    {
      "cell_type": "markdown",
      "source": [
        "# Installation\n",
        "Install the required libraries for working with Google Generative AI and Chroma DB"
      ],
      "metadata": {
        "id": "CRCeXLvV8h1S"
      }
    },
    {
      "cell_type": "code",
      "execution_count": 1,
      "metadata": {
        "colab": {
          "base_uri": "https://localhost:8080/"
        },
        "id": "8YBWM3P0XwLe",
        "outputId": "2d4b0646-af59-48f6-eb4e-33854913caf1"
      },
      "outputs": [
        {
          "output_type": "stream",
          "name": "stdout",
          "text": [
            "\u001b[?25l   \u001b[90m━━━━━━━━━━━━━━━━━━━━━━━━━━━━━━━━━━━━━━━━\u001b[0m \u001b[32m0.0/58.4 kB\u001b[0m \u001b[31m?\u001b[0m eta \u001b[36m-:--:--\u001b[0m\r\u001b[2K   \u001b[90m━━━━━━━━━━━━━━━━━━━━━━━━━━━━━━━━━━━━━━━━\u001b[0m \u001b[32m58.4/58.4 kB\u001b[0m \u001b[31m6.1 MB/s\u001b[0m eta \u001b[36m0:00:00\u001b[0m\n",
            "\u001b[?25h"
          ]
        }
      ],
      "source": [
        "!pip install -q U google-generativeai"
      ]
    },
    {
      "cell_type": "markdown",
      "source": [
        "Import necessary libraries and configure the Google Generative AI API key"
      ],
      "metadata": {
        "id": "3BpkgFbG8uV0"
      }
    },
    {
      "cell_type": "code",
      "source": [
        "import google.generativeai as genai\n",
        "from google.colab import userdata\n",
        "genai.configure(api_key = userdata.get(\"GOOGLE_API_KEY\"))"
      ],
      "metadata": {
        "id": "QDbY-GuIYkcQ"
      },
      "execution_count": 2,
      "outputs": []
    },
    {
      "cell_type": "markdown",
      "source": [
        " Embed a single string using the text-embedding-004 model"
      ],
      "metadata": {
        "id": "Wy3w8Ucu82qx"
      }
    },
    {
      "cell_type": "code",
      "source": [
        "from typing import Dict\n",
        "result : Dict = genai.embed_content(\n",
        "       model=\"models/text-embedding-004\",\n",
        "       content=\"What is the meaning of life?\",\n",
        "       task_type=\"retrieval_document\",\n",
        "       title=\"Embedding of single string\",\n",
        "   )\n",
        "\n",
        "result['embedding']"
      ],
      "metadata": {
        "collapsed": true,
        "id": "lHQqDUb5ZDoZ"
      },
      "execution_count": null,
      "outputs": []
    },
    {
      "cell_type": "code",
      "source": [
        "len(result['embedding'])"
      ],
      "metadata": {
        "colab": {
          "base_uri": "https://localhost:8080/"
        },
        "id": "p8mrobI1c-eI",
        "outputId": "c7cbbedb-18d6-4230-e85b-7da2269bc5d1"
      },
      "execution_count": 7,
      "outputs": [
        {
          "output_type": "execute_result",
          "data": {
            "text/plain": [
              "768"
            ]
          },
          "metadata": {},
          "execution_count": 7
        }
      ]
    },
    {
      "cell_type": "markdown",
      "source": [
        " Embed multiple strings using the text-embedding-004 model"
      ],
      "metadata": {
        "id": "npmyLwKk9Hgq"
      }
    },
    {
      "cell_type": "code",
      "source": [
        "from typing import Dict\n",
        "\n",
        "result : Dict = genai.embed_content(\n",
        "    model = \"models/text-embedding-004\",\n",
        "    content=[\n",
        "        \"What is the meaning of life?\",\n",
        "        \"What is the meaning of the universe?\",\n",
        "        \"What is the meaning of everything?\"\n",
        "    ],\n",
        "    task_type=\"retrieval_document\",\n",
        "    title=\"Embedding of multiple strings\"\n",
        "\n",
        ")\n",
        "#Print the first 50 characters of each embedding vector and its length\n",
        "\n",
        "for v in result[\"embedding\"]:\n",
        "  print(str(v)[:50],\"...TRIMMED...\",len(v))\n"
      ],
      "metadata": {
        "colab": {
          "base_uri": "https://localhost:8080/",
          "height": 69
        },
        "id": "rnJnv2FidLzl",
        "outputId": "dcd868ce-4dd6-4ce9-821a-96225e1a2178"
      },
      "execution_count": 8,
      "outputs": [
        {
          "output_type": "stream",
          "name": "stdout",
          "text": [
            "[-0.024917068, 0.05347744, -0.026206452, -0.004009 ...TRIMMED... 768\n",
            "[-0.024336139, 0.095174074, -0.043020867, -0.01074 ...TRIMMED... 768\n",
            "[-0.007933196, 0.04814023, -0.046043806, -0.020549 ...TRIMMED... 768\n"
          ]
        }
      ]
    },
    {
      "cell_type": "markdown",
      "source": [
        "Install the LangChain Chroma library for working with Chroma DB"
      ],
      "metadata": {
        "id": "NcTJAlCB9Qeh"
      }
    },
    {
      "cell_type": "code",
      "source": [
        "!pip install -Uq langchain-chroma"
      ],
      "metadata": {
        "id": "L9PDdvFMhuiE"
      },
      "execution_count": null,
      "outputs": []
    },
    {
      "cell_type": "markdown",
      "source": [
        "Define a list of documents with metadata for use in Chroma DB"
      ],
      "metadata": {
        "id": "jLNSnVMY9SAp"
      }
    },
    {
      "cell_type": "code",
      "source": [
        "from langchain_core.documents import Document\n",
        "\n",
        "documents = [\n",
        "    Document(\n",
        "        page_content=\"Dogs are great companions, known for their loyality and friendliness.\",\n",
        "        metadata={\"source\" : \"mammal-pets-doc\"},\n",
        "    ),\n",
        "\n",
        "    Document(\n",
        "        page_content=\"Goldfish are popular pets for beginners, requiring relatively simple care.\",\n",
        "        metadata={\"source\" : \"fish-pets-doc\"},\n",
        "    ),\n",
        "     Document(\n",
        "        page_content=\"Parrots are intelligent birds capable of mimicking human speech.\",\n",
        "        metadata={\"source\" : \"bird-pets-doc\"},\n",
        "    ),\n",
        "     Document(\n",
        "        page_content=\"Rabbits are social animals that need plenty of space to hop around.\",\n",
        "        metadata={\"source\" : \"mammal-pets-doc\"}\n",
        "    ),\n",
        "\n",
        "\n",
        "]"
      ],
      "metadata": {
        "id": "oSuJ3Dj5iJvn"
      },
      "execution_count": 10,
      "outputs": []
    },
    {
      "cell_type": "markdown",
      "source": [
        " Install the LangChain Google Generative AI library"
      ],
      "metadata": {
        "id": "1oEuu4UV9Wtr"
      }
    },
    {
      "cell_type": "code",
      "source": [
        "!pip install -Uq langchain-google-genai"
      ],
      "metadata": {
        "id": "XdL51C1hieNv"
      },
      "execution_count": null,
      "outputs": []
    },
    {
      "cell_type": "markdown",
      "source": [
        "Create an embedding model using Google Generative AI"
      ],
      "metadata": {
        "id": "HnBCiPDD9ZaE"
      }
    },
    {
      "cell_type": "code",
      "source": [
        "from langchain_google_genai import GoogleGenerativeAIEmbeddings\n",
        "embeddings = GoogleGenerativeAIEmbeddings(model = \"models/embedding-001\",\n",
        "google_api_key = userdata.get(\"GOOGLE_API_KEY\"))\n",
        "\n"
      ],
      "metadata": {
        "id": "4_ryk6SzKq6V"
      },
      "execution_count": 12,
      "outputs": []
    },
    {
      "cell_type": "code",
      "source": [
        "#Generate an embedding for a sample query\n",
        "embeddings.embed_query(\"What is the meaning of illusion\")"
      ],
      "metadata": {
        "collapsed": true,
        "id": "-79nZ91yOiTC"
      },
      "execution_count": null,
      "outputs": []
    },
    {
      "cell_type": "markdown",
      "source": [
        "Set up Chroma DB with the documents and embeddings"
      ],
      "metadata": {
        "id": "E0t348Lm9jSm"
      }
    },
    {
      "cell_type": "code",
      "source": [
        "from langchain_chroma import Chroma\n",
        "#from langchain_openai import OpenAIEmbeddings\n",
        "\n",
        "vectorstore= Chroma.from_documents(\n",
        "    documents,\n",
        "    embedding=embeddings\n",
        ")"
      ],
      "metadata": {
        "id": "ytgm9bA4MIGF"
      },
      "execution_count": 14,
      "outputs": []
    },
    {
      "cell_type": "markdown",
      "source": [
        "List available functions in the Chroma vector store"
      ],
      "metadata": {
        "id": "f4KB1wg19ofS"
      }
    },
    {
      "cell_type": "code",
      "source": [
        "#benefits of vector db:\n",
        "#all the functions that are in vector db are now given to us as shown in the answer of this code\n",
        "#and we dont create all those functions on our own, we will just call them and use them\n",
        "list(dir(vectorstore))"
      ],
      "metadata": {
        "colab": {
          "base_uri": "https://localhost:8080/"
        },
        "id": "GLRrt4FmQBR1",
        "outputId": "f0283550-c6f9-437d-f417-3f797ee4e156"
      },
      "execution_count": 15,
      "outputs": [
        {
          "output_type": "execute_result",
          "data": {
            "text/plain": [
              "['_Chroma__ensure_collection',\n",
              " '_Chroma__query_collection',\n",
              " '_LANGCHAIN_DEFAULT_COLLECTION_NAME',\n",
              " '__abstractmethods__',\n",
              " '__annotations__',\n",
              " '__class__',\n",
              " '__delattr__',\n",
              " '__dict__',\n",
              " '__dir__',\n",
              " '__doc__',\n",
              " '__eq__',\n",
              " '__format__',\n",
              " '__ge__',\n",
              " '__getattribute__',\n",
              " '__getstate__',\n",
              " '__gt__',\n",
              " '__hash__',\n",
              " '__init__',\n",
              " '__init_subclass__',\n",
              " '__le__',\n",
              " '__lt__',\n",
              " '__module__',\n",
              " '__ne__',\n",
              " '__new__',\n",
              " '__reduce__',\n",
              " '__reduce_ex__',\n",
              " '__repr__',\n",
              " '__setattr__',\n",
              " '__sizeof__',\n",
              " '__slots__',\n",
              " '__str__',\n",
              " '__subclasshook__',\n",
              " '__weakref__',\n",
              " '_abc_impl',\n",
              " '_asimilarity_search_with_relevance_scores',\n",
              " '_chroma_collection',\n",
              " '_client',\n",
              " '_client_settings',\n",
              " '_collection',\n",
              " '_collection_metadata',\n",
              " '_collection_name',\n",
              " '_cosine_relevance_score_fn',\n",
              " '_embedding_function',\n",
              " '_euclidean_relevance_score_fn',\n",
              " '_get_retriever_tags',\n",
              " '_max_inner_product_relevance_score_fn',\n",
              " '_persist_directory',\n",
              " '_select_relevance_score_fn',\n",
              " '_similarity_search_with_relevance_scores',\n",
              " 'aadd_documents',\n",
              " 'aadd_texts',\n",
              " 'add_documents',\n",
              " 'add_images',\n",
              " 'add_texts',\n",
              " 'adelete',\n",
              " 'afrom_documents',\n",
              " 'afrom_texts',\n",
              " 'aget_by_ids',\n",
              " 'amax_marginal_relevance_search',\n",
              " 'amax_marginal_relevance_search_by_vector',\n",
              " 'as_retriever',\n",
              " 'asearch',\n",
              " 'asimilarity_search',\n",
              " 'asimilarity_search_by_vector',\n",
              " 'asimilarity_search_with_relevance_scores',\n",
              " 'asimilarity_search_with_score',\n",
              " 'delete',\n",
              " 'delete_collection',\n",
              " 'embeddings',\n",
              " 'encode_image',\n",
              " 'from_documents',\n",
              " 'from_texts',\n",
              " 'get',\n",
              " 'get_by_ids',\n",
              " 'max_marginal_relevance_search',\n",
              " 'max_marginal_relevance_search_by_vector',\n",
              " 'override_relevance_score_fn',\n",
              " 'reset_collection',\n",
              " 'search',\n",
              " 'similarity_search',\n",
              " 'similarity_search_by_image',\n",
              " 'similarity_search_by_image_with_relevance_score',\n",
              " 'similarity_search_by_vector',\n",
              " 'similarity_search_by_vector_with_relevance_scores',\n",
              " 'similarity_search_with_relevance_scores',\n",
              " 'similarity_search_with_score',\n",
              " 'similarity_search_with_vectors',\n",
              " 'update_document',\n",
              " 'update_documents']"
            ]
          },
          "metadata": {},
          "execution_count": 15
        }
      ]
    },
    {
      "cell_type": "code",
      "source": [
        "vectorstore.similarity_search(\"tell me about parrots\")"
      ],
      "metadata": {
        "colab": {
          "base_uri": "https://localhost:8080/"
        },
        "collapsed": true,
        "id": "u5hzaHfAQkaS",
        "outputId": "b954bf46-409b-4f23-f9af-e96dcf329366"
      },
      "execution_count": 16,
      "outputs": [
        {
          "output_type": "execute_result",
          "data": {
            "text/plain": [
              "[Document(id='14343dcb-ba76-4c0f-b0aa-98a170dd97e6', metadata={'source': 'bird-pets-doc'}, page_content='Parrots are intelligent birds capable of mimicking human speech.'),\n",
              " Document(id='32a0d142-f2c6-4d6c-b805-a9b3a36c67d4', metadata={'source': 'mammal-pets-doc'}, page_content='Dogs are great companions, known for their loyality and friendliness.'),\n",
              " Document(id='3770fb08-8864-445c-823c-7528e38ad606', metadata={'source': 'mammal-pets-doc'}, page_content='Rabbits are social animals that need plenty of space to hop around.'),\n",
              " Document(id='82d620ec-23b1-4837-8954-21628c75aaeb', metadata={'source': 'fish-pets-doc'}, page_content='Goldfish are popular pets for beginners, requiring relatively simple care.')]"
            ]
          },
          "metadata": {},
          "execution_count": 16
        }
      ]
    },
    {
      "cell_type": "markdown",
      "source": [
        "Generate an embedding for the word \"Dog\" and perform a similarity search"
      ],
      "metadata": {
        "id": "2s2wbKux9sj9"
      }
    },
    {
      "cell_type": "code",
      "source": [
        "embedding = embeddings.embed_query(\"Dog\")\n",
        "vectorstore.similarity_search_by_vector(embedding)"
      ],
      "metadata": {
        "colab": {
          "base_uri": "https://localhost:8080/"
        },
        "id": "nLHtBJgTZTMS",
        "outputId": "9f90c5ac-543a-4d1d-ac66-cf03f198269e"
      },
      "execution_count": 17,
      "outputs": [
        {
          "output_type": "execute_result",
          "data": {
            "text/plain": [
              "[Document(id='32a0d142-f2c6-4d6c-b805-a9b3a36c67d4', metadata={'source': 'mammal-pets-doc'}, page_content='Dogs are great companions, known for their loyality and friendliness.'),\n",
              " Document(id='14343dcb-ba76-4c0f-b0aa-98a170dd97e6', metadata={'source': 'bird-pets-doc'}, page_content='Parrots are intelligent birds capable of mimicking human speech.'),\n",
              " Document(id='3770fb08-8864-445c-823c-7528e38ad606', metadata={'source': 'mammal-pets-doc'}, page_content='Rabbits are social animals that need plenty of space to hop around.'),\n",
              " Document(id='82d620ec-23b1-4837-8954-21628c75aaeb', metadata={'source': 'fish-pets-doc'}, page_content='Goldfish are popular pets for beginners, requiring relatively simple care.')]"
            ]
          },
          "metadata": {},
          "execution_count": 17
        }
      ]
    },
    {
      "cell_type": "markdown",
      "source": [
        "Retrievers"
      ],
      "metadata": {
        "id": "NyAMDgWWczUo"
      }
    },
    {
      "cell_type": "markdown",
      "source": [
        "Set up a retriever to fetch the top result from the vector store"
      ],
      "metadata": {
        "id": "IlZ9NRzg9zkV"
      }
    },
    {
      "cell_type": "code",
      "source": [
        "from langchain_core.documents import Document\n",
        "from langchain_core.runnables import RunnableLambda\n",
        "retriever = RunnableLambda(vectorstore.similarity_search).bind(k=1)#select top result\n",
        "retriever.batch([\"water living\"])"
      ],
      "metadata": {
        "colab": {
          "base_uri": "https://localhost:8080/"
        },
        "id": "QDfE1wpZZkSI",
        "outputId": "f649a2bb-e01c-48d9-d7b5-2191808edea8"
      },
      "execution_count": 18,
      "outputs": [
        {
          "output_type": "execute_result",
          "data": {
            "text/plain": [
              "[[Document(id='82d620ec-23b1-4837-8954-21628c75aaeb', metadata={'source': 'fish-pets-doc'}, page_content='Goldfish are popular pets for beginners, requiring relatively simple care.')]]"
            ]
          },
          "metadata": {},
          "execution_count": 18
        }
      ]
    },
    {
      "cell_type": "markdown",
      "source": [
        "Set up the ChatGoogleGenerativeAI model for generating responses"
      ],
      "metadata": {
        "id": "ByfUgG1r94lw"
      }
    },
    {
      "cell_type": "code",
      "source": [
        "from langchain_google_genai import ChatGoogleGenerativeAI\n",
        "\n",
        "llm = ChatGoogleGenerativeAI(model=\"gemini-1.5-flash\",\n",
        "                             api_key=userdata.get('GOOGLE_API_KEY')\n",
        ")"
      ],
      "metadata": {
        "id": "OaKx906LgmQp"
      },
      "execution_count": 19,
      "outputs": []
    },
    {
      "cell_type": "markdown",
      "source": [
        "Define a prompt template for the RAG (Retrieval-Augmented Generation) pipeline"
      ],
      "metadata": {
        "id": "GkMKU2cG98Al"
      }
    },
    {
      "cell_type": "code",
      "source": [
        "from langchain_core.prompts import ChatPromptTemplate\n",
        "from langchain_core.runnables import RunnablePassthrough\n",
        "\n",
        "message =  \"\"\"\n",
        "Answer this question using the provided context only.\n",
        "{question}:\n",
        "Context:\n",
        "{context}\n",
        "\"\"\""
      ],
      "metadata": {
        "id": "g2XRGvFPhnnR"
      },
      "execution_count": 20,
      "outputs": []
    },
    {
      "cell_type": "code",
      "source": [
        "prompt = ChatPromptTemplate.from_messages([(\"human\",message)])"
      ],
      "metadata": {
        "id": "NT9Zv7_oi6Dl"
      },
      "execution_count": 21,
      "outputs": []
    },
    {
      "cell_type": "markdown",
      "source": [
        "RAG"
      ],
      "metadata": {
        "id": "_ljCJHlHjSbq"
      }
    },
    {
      "cell_type": "markdown",
      "source": [
        "Build the RAG pipeline by combining the retriever, prompt, and LLM"
      ],
      "metadata": {
        "id": "5z0yMKD_-Csc"
      }
    },
    {
      "cell_type": "code",
      "source": [
        " rag_chain = {\"context\": retriever,\"question\":RunnablePassthrough()} | prompt | llm"
      ],
      "metadata": {
        "id": "tTUgunoujWP7"
      },
      "execution_count": 22,
      "outputs": []
    },
    {
      "cell_type": "markdown",
      "source": [
        "Invoke the RAG pipeline to answer a question about Goldfish"
      ],
      "metadata": {
        "id": "SQkLIYps-Fhc"
      }
    },
    {
      "cell_type": "code",
      "source": [
        "response = rag_chain.invoke(\"Tell me about Goldfish\")\n",
        "print(response.content)"
      ],
      "metadata": {
        "colab": {
          "base_uri": "https://localhost:8080/"
        },
        "id": "0Y3ltsGokgR8",
        "outputId": "2c7b3008-7eea-4123-8620-c1aa42078501"
      },
      "execution_count": 23,
      "outputs": [
        {
          "output_type": "stream",
          "name": "stdout",
          "text": [
            "Based on the provided text, goldfish are popular pets for beginners because they require relatively simple care.\n"
          ]
        }
      ]
    }
  ]
}